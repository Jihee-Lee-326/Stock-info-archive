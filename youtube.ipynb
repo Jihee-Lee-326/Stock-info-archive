{
 "cells": [
  {
   "cell_type": "code",
   "execution_count": 3,
   "metadata": {},
   "outputs": [
    {
     "name": "stdout",
     "output_type": "stream",
     "text": [
      "🗞️ Russell Reconstitution 2024: Nasdaq and FTSE Russell make history with the largest liquidity day on record by dollar volume. Dive into how Nasdaq’s technology has scaled to meet the global surge in trading volumes. Read more: https://www.nasdaq.com/newsroom/russe...\n",
      "⚡️The future of the boardroom is powered by AI. ‪@nasdaq‬ recently launched new AI features within Nasdaq Boardvantage® powered by ‪@Microsoft‬'s Azure OpenAI Service. This innovative integration aims to streamline boardroom processes. Read more: https://www.nasdaq.com/newsroom/how-n...\n"
     ]
    }
   ],
   "source": [
    "import time\n",
    "from selenium import webdriver\n",
    "from selenium.webdriver.common.by import By\n",
    "from selenium.webdriver.common.keys import Keys\n",
    "from bs4 import BeautifulSoup\n",
    "import pandas as pd\n",
    "\n",
    "def get_youtube_comments(video_id):\n",
    "    url = f'https://www.youtube.com/results?search_query={video_id}'\n",
    "    \n",
    "    options = webdriver.ChromeOptions()\n",
    "    options.add_argument('--headless')\n",
    "    options.add_argument('--disable-gpu')\n",
    "    options.add_argument('--no-sandbox')\n",
    "    driver = webdriver.Chrome(options=options)\n",
    "    \n",
    "    driver.get(url)\n",
    "    time.sleep(5)  # 페이지 로딩 대기\n",
    "    \n",
    "    # 스크롤하여 댓글 모두 로드\n",
    "    for _ in range(20):\n",
    "        driver.find_element(By.TAG_NAME, 'body').send_keys(Keys.END)\n",
    "        time.sleep(2)\n",
    "    \n",
    "    # 페이지 소스 가져오기\n",
    "    soup = BeautifulSoup(driver.page_source, 'html.parser')\n",
    "    driver.quit()\n",
    "    \n",
    "    comments = []\n",
    "    comment_divs = soup.find_all('yt-formatted-string', {'id': 'content-text'})\n",
    "    for div in comment_divs:\n",
    "        comments.append(div.text)\n",
    "    \n",
    "    return comments\n",
    "\n",
    "# 예시 댓글 크롤링\n",
    "video_id = 'NASDAQ'\n",
    "comments = get_youtube_comments(video_id)\n",
    "for comment in comments[:10]:\n",
    "    print(comment)"
   ]
  },
  {
   "cell_type": "code",
   "execution_count": 4,
   "metadata": {},
   "outputs": [
    {
     "data": {
      "text/plain": [
       "['🗞️ Russell Reconstitution 2024: Nasdaq and FTSE Russell make history with the largest liquidity day on record by dollar volume. Dive into how Nasdaq’s technology has scaled to meet the global surge in trading volumes. Read more: https://www.nasdaq.com/newsroom/russe...',\n",
       " \"⚡️The future of the boardroom is powered by AI. \\u202a@nasdaq\\u202c recently launched new AI features within Nasdaq Boardvantage® powered by \\u202a@Microsoft\\u202c's Azure OpenAI Service. This innovative integration aims to streamline boardroom processes. Read more: https://www.nasdaq.com/newsroom/how-n...\"]"
      ]
     },
     "execution_count": 4,
     "metadata": {},
     "output_type": "execute_result"
    }
   ],
   "source": [
    "comments"
   ]
  },
  {
   "cell_type": "code",
   "execution_count": null,
   "metadata": {},
   "outputs": [],
   "source": []
  }
 ],
 "metadata": {
  "kernelspec": {
   "display_name": "Python 3",
   "language": "python",
   "name": "python3"
  },
  "language_info": {
   "codemirror_mode": {
    "name": "ipython",
    "version": 3
   },
   "file_extension": ".py",
   "mimetype": "text/x-python",
   "name": "python",
   "nbconvert_exporter": "python",
   "pygments_lexer": "ipython3",
   "version": "3.11.9"
  }
 },
 "nbformat": 4,
 "nbformat_minor": 2
}
