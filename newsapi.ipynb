{
 "cells": [
  {
   "cell_type": "code",
   "execution_count": 4,
   "metadata": {},
   "outputs": [
    {
     "name": "stdout",
     "output_type": "stream",
     "text": [
      "                                               title  \\\n",
      "0  Le risque politique omniprésent mais sans impa...   \n",
      "\n",
      "                                         description  \\\n",
      "0  La politique fait son entrée en force dans les...   \n",
      "\n",
      "                                                 url           publishedAt  \\\n",
      "0  https://www.latribune.fr/entreprises-finance/b...  2024-06-27T16:06:00Z   \n",
      "\n",
      "          source  \n",
      "0  La Tribune.fr  \n"
     ]
    }
   ],
   "source": [
    "import requests\n",
    "import pandas as pd\n",
    "\n",
    "# NewsAPI 설정\n",
    "api_key = ''  # 발급받은 API 키를 입력하세요\n",
    "query = 'ndivia'  # 검색할 키워드를 입력하세요\n",
    "url = f'https://newsapi.org/v2/everything?q={query}&pageSize=500&apiKey={api_key}'\n",
    "\n",
    "# API 요청\n",
    "response = requests.get(url)\n",
    "data = response.json()\n",
    "\n",
    "# 기사 정보 추출\n",
    "articles = data['articles']\n",
    "article_list = []\n",
    "for article in articles:\n",
    "    article_data = {\n",
    "        'title': article['title'],\n",
    "        'description': article['description'],\n",
    "        'url': article['url'],\n",
    "        'publishedAt': article['publishedAt'],\n",
    "        'source': article['source']['name']\n",
    "    }\n",
    "    article_list.append(article_data)\n",
    "\n",
    "# 데이터프레임으로 변환\n",
    "df = pd.DataFrame(article_list)\n",
    "\n",
    "# 데이터프레임 출력\n",
    "print(df.head())\n",
    "\n",
    "# CSV 파일로 저장\n",
    "# df.to_csv('top_50_articles.csv', index=False)"
   ]
  },
  {
   "cell_type": "code",
   "execution_count": 7,
   "metadata": {},
   "outputs": [
    {
     "data": {
      "text/plain": [
       "[{'source': {'id': None, 'name': 'La Tribune.fr'},\n",
       "  'author': 'Eric Benhamou',\n",
       "  'title': 'Le risque politique omniprésent mais sans impact majeur sur les marchés',\n",
       "  'description': 'La politique fait son entrée en force dans les scénarios de marché en France, en zone euro, et aussi aux Etats-Unis, où le premier débat télévisé entre Joe Biden et Donald Trump donne le coup d’envoi de la campagne pour l’élection présidentielle en novembre. …',\n",
       "  'url': 'https://www.latribune.fr/entreprises-finance/banques-finance/industrie-financiere/le-risque-politique-omnipresent-mais-sans-impact-majeur-sur-les-marches-1000915.html',\n",
       "  'urlToImage': 'https://static.latribune.fr/full_width/2397115/photo-d-archives-une-plaque-de-rue-de-wall-street-est-vue-pres-de-la-bourse-de-new-york.jpg',\n",
       "  'publishedAt': '2024-06-27T16:06:00Z',\n",
       "  'content': \"Toutes les élections ne se ressemblent pas. Les résultats des européennes en France, après un parti d'extrême droite largement en tête, et l'annonce d'une dissolution a certes provoqué des remous sur… [+6201 chars]\"}]"
      ]
     },
     "execution_count": 7,
     "metadata": {},
     "output_type": "execute_result"
    }
   ],
   "source": [
    "articles"
   ]
  },
  {
   "cell_type": "markdown",
   "metadata": {},
   "source": [
    "# google search w/o chromedriver"
   ]
  },
  {
   "cell_type": "code",
   "execution_count": 12,
   "metadata": {},
   "outputs": [
    {
     "name": "stdout",
     "output_type": "stream",
     "text": [
      "Empty DataFrame\n",
      "Columns: []\n",
      "Index: []\n"
     ]
    }
   ],
   "source": [
    "import requests\n",
    "from bs4 import BeautifulSoup\n",
    "import pandas as pd\n",
    "\n",
    "def get_google_news_links(query, num_results=10):\n",
    "    search_url = f\"https://www.google.com/search?q={query}&tbm=nws\"\n",
    "    headers = {\n",
    "        'User-Agent': 'Mozilla/5.0 (Windows NT 10.0; Win64; x64) AppleWebKit/537.36 (KHTML, like Gecko) Chrome/58.0.3029.110 Safari/537.3'}\n",
    "    response = requests.get(search_url, headers=headers)\n",
    "    soup = BeautifulSoup(response.text, 'html.parser')\n",
    "    \n",
    "    articles = []\n",
    "    for item in soup.find_all('div', {'class': 'dbsr'}, limit=num_results):\n",
    "        title = item.find('div', {'role': 'heading'}).get_text()\n",
    "        link = item.a['href']\n",
    "        snippet = item.find('div', {'class': 'Y3v8qd'}).get_text()\n",
    "        articles.append({'title': title, 'link': link, 'snippet': snippet})\n",
    "    \n",
    "    return articles\n",
    "\n",
    "# 예시 쿼리\n",
    "query = 'ndivia'\n",
    "\n",
    "# 뉴스 기사 링크 가져오기\n",
    "articles = get_google_news_links(query, num_results=10)\n",
    "\n",
    "# 기사 데이터를 데이터프레임으로 변환\n",
    "df = pd.DataFrame(articles)\n",
    "\n",
    "# 데이터프레임 출력\n",
    "print(df.head())\n",
    "\n",
    "# CSV 파일로 저장\n",
    "# df.to_csv('google_news_links.csv', index=False)"
   ]
  },
  {
   "cell_type": "code",
   "execution_count": null,
   "metadata": {},
   "outputs": [],
   "source": []
  }
 ],
 "metadata": {
  "kernelspec": {
   "display_name": "stock_ma",
   "language": "python",
   "name": "python3"
  },
  "language_info": {
   "codemirror_mode": {
    "name": "ipython",
    "version": 3
   },
   "file_extension": ".py",
   "mimetype": "text/x-python",
   "name": "python",
   "nbconvert_exporter": "python",
   "pygments_lexer": "ipython3",
   "version": "3.9.12"
  }
 },
 "nbformat": 4,
 "nbformat_minor": 2
}
